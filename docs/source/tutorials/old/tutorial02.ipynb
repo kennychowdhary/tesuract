{
 "cells": [
  {
   "cell_type": "markdown",
   "id": "musical-transportation",
   "metadata": {},
   "source": [
    "# Some other usage cases\n",
    "\n",
    "In this tutorial, we will look at some uncommon usage cases for the pce regression classes. For example, we will look at how to construct a pce with a given coefficient array, using normalized Legendre bases, using different fit algorithms with custom fit parameters, etc. Again, let us import the relavant libraries. "
   ]
  },
  {
   "cell_type": "code",
   "execution_count": 1,
   "id": "congressional-composite",
   "metadata": {
    "scrolled": true
   },
   "outputs": [],
   "source": [
    "import pypce\n",
    "import numpy as np\n",
    "import matplotlib.pyplot as mpl"
   ]
  },
  {
   "cell_type": "markdown",
   "id": "executive-bahrain",
   "metadata": {},
   "source": [
    "And let us create some sample data with and without noise this time, which will necessitate the use of a regularization method. "
   ]
  },
  {
   "cell_type": "code",
   "execution_count": 2,
   "id": "sunrise-leone",
   "metadata": {
    "scrolled": false
   },
   "outputs": [
    {
     "name": "stdout",
     "output_type": "stream",
     "text": [
      "(100, 2) (100,) (100,)\n"
     ]
    }
   ],
   "source": [
    "rn = np.random.RandomState(113)\n",
    "X = 2*rn.rand(100,2)-1\n",
    "y = X[:,0] + .5*(3*X[:,1]**2-1) \n",
    "y_w_noise = y.copy() + .1*rn.randn(len(y))\n",
    "print(X.shape,y.shape,y_w_noise.shape)"
   ]
  },
  {
   "cell_type": "markdown",
   "id": "effective-spain",
   "metadata": {},
   "source": [
    "And let's plot the input output univariate pairs with noise."
   ]
  },
  {
   "cell_type": "code",
   "execution_count": null,
   "id": "enclosed-street",
   "metadata": {
    "scrolled": true
   },
   "outputs": [],
   "source": [
    "[mpl.plot(X[:,i],y_w_noise,'.') for i in range(X.shape[1])]"
   ]
  },
  {
   "cell_type": "markdown",
   "id": "japanese-marina",
   "metadata": {},
   "source": [
    "## Defining custom coefficient array\n",
    "\n",
    "First, suppose we already have a coefficient array we want to predict with. This is not common, but the pce regression class has that as an option. In this case you initial the pce object but have to make sure the coefficient array is the same size as the number of basis functions, which is equivalent to the number of rows of the multiindex array. "
   ]
  },
  {
   "cell_type": "code",
   "execution_count": 4,
   "id": "elegant-profession",
   "metadata": {
    "scrolled": true
   },
   "outputs": [
    {
     "name": "stdout",
     "output_type": "stream",
     "text": [
      "multiindex:\n",
      " [[0 0]\n",
      " [1 0]\n",
      " [0 1]\n",
      " [2 0]\n",
      " [1 1]\n",
      " [0 2]]\n",
      "number of basis elements:  6\n"
     ]
    }
   ],
   "source": [
    "pce_ref = pypce.PCEReg(order=2)\n",
    "pce_ref.compile(dim=2) # must run this to generate multiindex\n",
    "print(\"multiindex:\\n\",pce_ref.mindex)\n",
    "print(\"number of basis elements: \", pce_ref.mindex.shape[0])"
   ]
  },
  {
   "cell_type": "markdown",
   "id": "informative-class",
   "metadata": {},
   "source": [
    "Here, we said we wanted a second order polynomial and used the compile method from the PCEBuilder class to construct the multiindex. We were then able to print out the multiindex shape which, in this case, has 6 basis elements. So we need a coefficient array of size 6. "
   ]
  },
  {
   "cell_type": "code",
   "execution_count": 10,
   "id": "empirical-newfoundland",
   "metadata": {
    "scrolled": true
   },
   "outputs": [],
   "source": [
    "coef = np.zeros(6)\n",
    "coef[1] = 1.0; coef[-1] = 1.0"
   ]
  },
  {
   "cell_type": "markdown",
   "id": "ranging-springer",
   "metadata": {},
   "source": [
    "Let us construct a new pce regression object with this coefficient array. "
   ]
  },
  {
   "cell_type": "code",
   "execution_count": 12,
   "id": "visible-carolina",
   "metadata": {
    "scrolled": true
   },
   "outputs": [
    {
     "data": {
      "text/plain": [
       "array([0.625, 0.375])"
      ]
     },
     "execution_count": 12,
     "metadata": {},
     "output_type": "execute_result"
    }
   ],
   "source": [
    "pce = pypce.PCEReg(order=2,coef=coef)\n",
    "pce.compile(dim=2)\n",
    "pce.feature_importances()"
   ]
  },
  {
   "cell_type": "markdown",
   "id": "wrong-marsh",
   "metadata": {},
   "source": [
    "We can now make predictions with this polynomial object. We can bypass the fitting because we already know what the coefficient array is. "
   ]
  },
  {
   "cell_type": "code",
   "execution_count": null,
   "id": "biological-death",
   "metadata": {
    "scrolled": true
   },
   "outputs": [],
   "source": [
    "ypred = pce.predict(X)\n",
    "print(\"prediction error = \", np.sum(ypred-y))"
   ]
  },
  {
   "cell_type": "markdown",
   "id": "employed-commander",
   "metadata": {},
   "source": [
    "Note what happens if the coefficient array is the wrong size. The initialization is fine, but the predict method fails. "
   ]
  },
  {
   "cell_type": "code",
   "execution_count": null,
   "id": "quiet-chemical",
   "metadata": {
    "scrolled": true
   },
   "outputs": [],
   "source": [
    "pce = pypce.PCEReg(order=2,coef=coef[:-1])\n",
    "pce.predict(X)"
   ]
  },
  {
   "cell_type": "markdown",
   "id": "united-assist",
   "metadata": {},
   "source": [
    "## Custom multiindex array"
   ]
  },
  {
   "cell_type": "markdown",
   "id": "complimentary-sydney",
   "metadata": {},
   "source": [
    "We can also build a pce object with a custom multiindex array as well. Let's use the multiindex of the reference pce above and modify it.  "
   ]
  },
  {
   "cell_type": "code",
   "execution_count": 5,
   "id": "significant-karma",
   "metadata": {},
   "outputs": [
    {
     "name": "stdout",
     "output_type": "stream",
     "text": [
      "[[1 0]\n",
      " [0 2]]\n"
     ]
    }
   ],
   "source": [
    "custom_mindex = pce_ref.mindex[[1,-1]]\n",
    "print(custom_mindex)"
   ]
  },
  {
   "cell_type": "markdown",
   "id": "reported-pressure",
   "metadata": {},
   "source": [
    "Here we just took the second and last row of the multiindex. Now let's construct our pce with this. "
   ]
  },
  {
   "cell_type": "code",
   "execution_count": 6,
   "id": "massive-curtis",
   "metadata": {},
   "outputs": [
    {
     "data": {
      "text/plain": [
       "PCEReg(coef=array([1., 1.]), customM=array([[1, 0],\n",
       "       [0, 2]]), order=None)"
      ]
     },
     "execution_count": 6,
     "metadata": {},
     "output_type": "execute_result"
    }
   ],
   "source": [
    "pce = pypce.PCEReg(customM=custom_mindex)\n",
    "pce.fit(X,y)"
   ]
  },
  {
   "cell_type": "markdown",
   "id": "tested-repair",
   "metadata": {},
   "source": [
    "Note that the custom multiindex has to have the right dimensions. That is, the custom_mindex.shape[1] has to match the dimension of X, i.e. X.shape[1]."
   ]
  },
  {
   "cell_type": "code",
   "execution_count": 9,
   "id": "tutorial-fiction",
   "metadata": {},
   "outputs": [
    {
     "data": {
      "text/plain": [
       "array([0.625, 0.375])"
      ]
     },
     "execution_count": 9,
     "metadata": {},
     "output_type": "execute_result"
    }
   ],
   "source": [
    "pce.feature_importances_"
   ]
  },
  {
   "cell_type": "markdown",
   "id": "serious-howard",
   "metadata": {},
   "source": [
    "## Custom multiindex and coefficient array"
   ]
  },
  {
   "cell_type": "markdown",
   "id": "grand-dominican",
   "metadata": {},
   "source": [
    "We can also feed it both a custom multiindex AND coefficient array. "
   ]
  },
  {
   "cell_type": "code",
   "execution_count": 13,
   "id": "pacific-hollywood",
   "metadata": {},
   "outputs": [
    {
     "name": "stdout",
     "output_type": "stream",
     "text": [
      "error is  0.0\n"
     ]
    }
   ],
   "source": [
    "coef = np.array([1.0,1.0])\n",
    "pce = pypce.PCEReg(customM=custom_mindex,coef=coef)\n",
    "ypred = pce.predict(X)\n",
    "print(\"error is \", np.sum(ypred-y))"
   ]
  },
  {
   "cell_type": "markdown",
   "id": "willing-contribution",
   "metadata": {},
   "source": [
    "Again, we can bypass the predict function since we already know the coefficient array. "
   ]
  },
  {
   "cell_type": "markdown",
   "id": "hourly-circuit",
   "metadata": {},
   "source": [
    "## Using normalized Legendre basis\n",
    "\n",
    "Another option is to use a normalized Legendre basis. The current method actually computes the normalization scalar, but in future versions, we will just use a normalized legendre function as input. Let's see how it works anyway. "
   ]
  },
  {
   "cell_type": "code",
   "execution_count": 14,
   "id": "endangered-champion",
   "metadata": {},
   "outputs": [
    {
     "data": {
      "text/plain": [
       "PCEReg(coef=array([ 1.36313249e-15,  1.15470054e+00,  6.07153217e-16, -1.11022302e-15,\n",
       "       -1.52655666e-16,  8.94427191e-01]),\n",
       "       normalized=True)"
      ]
     },
     "execution_count": 14,
     "metadata": {},
     "output_type": "execute_result"
    }
   ],
   "source": [
    "pce = pypce.PCEReg(order=2,fit_type='linear',normalized=True)\n",
    "pce.fit(X,y)"
   ]
  },
  {
   "cell_type": "markdown",
   "id": "weekly-completion",
   "metadata": {},
   "source": [
    "Notice how the coefficient values have changed. This is due to the normalization constant. While the coefficient array changed, the actual polynomials are just scaled versions of themselves, so the prediction should be exactly the same, as well as the feature importances. Let's see. "
   ]
  },
  {
   "cell_type": "code",
   "execution_count": 15,
   "id": "temporal-scientist",
   "metadata": {},
   "outputs": [
    {
     "name": "stdout",
     "output_type": "stream",
     "text": [
      "mse = 9.283950E-29\n"
     ]
    }
   ],
   "source": [
    "ypred = pce.predict(X)\n",
    "print(\"mse = {0:E}\".format(np.sum((ypred-y)**2)))"
   ]
  },
  {
   "cell_type": "code",
   "execution_count": 16,
   "id": "ranking-python",
   "metadata": {},
   "outputs": [
    {
     "data": {
      "text/plain": [
       "array([0.625, 0.375])"
      ]
     },
     "execution_count": 16,
     "metadata": {},
     "output_type": "execute_result"
    }
   ],
   "source": [
    "pce.feature_importances_"
   ]
  },
  {
   "cell_type": "code",
   "execution_count": null,
   "id": "mobile-nutrition",
   "metadata": {},
   "outputs": [],
   "source": []
  }
 ],
 "metadata": {
  "kernelspec": {
   "display_name": "Python 3",
   "language": "python",
   "name": "python3"
  },
  "language_info": {
   "codemirror_mode": {
    "name": "ipython",
    "version": 3
   },
   "file_extension": ".py",
   "mimetype": "text/x-python",
   "name": "python",
   "nbconvert_exporter": "python",
   "pygments_lexer": "ipython3",
   "version": "3.7.6"
  }
 },
 "nbformat": 4,
 "nbformat_minor": 5
}
