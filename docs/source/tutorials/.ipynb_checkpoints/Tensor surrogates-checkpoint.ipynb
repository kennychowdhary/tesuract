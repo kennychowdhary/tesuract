{
 "cells": [
  {
   "cell_type": "code",
   "execution_count": 3,
   "id": "3ecb84fe",
   "metadata": {},
   "outputs": [
    {
     "data": {
      "text/plain": [
       "((100, 2), (100, 3))"
      ]
     },
     "execution_count": 3,
     "metadata": {},
     "output_type": "execute_result"
    }
   ],
   "source": [
    "import numpy as np\n",
    "import tesuract\n",
    "%matplotlib inline\n",
    "X = np.loadtxt(\"rom_test_X.txt\")\n",
    "Y = np.loadtxt(\"rom_test_Y.txt\")\n",
    "Y = Y[:,:3]\n",
    "X.shape, Y.shape"
   ]
  },
  {
   "cell_type": "code",
   "execution_count": 7,
   "id": "fd812a12",
   "metadata": {},
   "outputs": [],
   "source": [
    "# define pce grid\n",
    "pce_grid = {\n",
    "    'order': list(range(1,12)),\n",
    "    'mindex_type': ['total_order','hyperbolic'],\n",
    "    'fit_type': ['linear','ElasticNetCV','LassoCV'],\n",
    "    }\n",
    "\n",
    "pce_grid = {\n",
    "    'order': 8,\n",
    "    'mindex_type': 'total_order',\n",
    "    'fit_type': 'ElasticNetCV'\n",
    "    }\n",
    "mpce = tesuract.MRegressionWrapperCV(\n",
    "    regressor='pce',\n",
    "    reg_params=pce_grid)\n"
   ]
  },
  {
   "cell_type": "code",
   "execution_count": 8,
   "id": "d739009e",
   "metadata": {},
   "outputs": [
    {
     "data": {
      "text/plain": [
       "MRegressionWrapperCV(cv=KFold(n_splits=5, random_state=None, shuffle=False),\n",
       "                     reg_params={'fit_type': 'ElasticNetCV',\n",
       "                                 'mindex_type': 'total_order', 'order': 8})"
      ]
     },
     "execution_count": 8,
     "metadata": {},
     "output_type": "execute_result"
    }
   ],
   "source": [
    "mpce.fit(X,Y)"
   ]
  },
  {
   "cell_type": "code",
   "execution_count": 9,
   "id": "229abb0d",
   "metadata": {},
   "outputs": [
    {
     "data": {
      "text/plain": [
       "[{'fit_type': 'ElasticNetCV', 'mindex_type': 'total_order', 'order': 8},\n",
       " {'fit_type': 'ElasticNetCV', 'mindex_type': 'total_order', 'order': 8},\n",
       " {'fit_type': 'ElasticNetCV', 'mindex_type': 'total_order', 'order': 8}]"
      ]
     },
     "execution_count": 9,
     "metadata": {},
     "output_type": "execute_result"
    }
   ],
   "source": [
    "mpce.best_params_"
   ]
  },
  {
   "cell_type": "code",
   "execution_count": null,
   "id": "054f0caa",
   "metadata": {},
   "outputs": [],
   "source": []
  }
 ],
 "metadata": {
  "kernelspec": {
   "display_name": "Python 3",
   "language": "python",
   "name": "python3"
  },
  "language_info": {
   "codemirror_mode": {
    "name": "ipython",
    "version": 3
   },
   "file_extension": ".py",
   "mimetype": "text/x-python",
   "name": "python",
   "nbconvert_exporter": "python",
   "pygments_lexer": "ipython3",
   "version": "3.7.6"
  }
 },
 "nbformat": 4,
 "nbformat_minor": 5
}
