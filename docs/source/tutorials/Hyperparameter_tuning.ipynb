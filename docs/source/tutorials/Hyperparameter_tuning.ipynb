{
 "cells": [
  {
   "cell_type": "markdown",
   "id": "469a7167",
   "metadata": {},
   "source": [
    "Let's try some hyper-parameter tuning for our polynomial fitting before we give up!"
   ]
  },
  {
   "cell_type": "markdown",
   "id": "14d7c3d9",
   "metadata": {},
   "source": [
    "# Hyper-parameter tuning\n"
   ]
  },
  {
   "cell_type": "markdown",
   "id": "124ad242",
   "metadata": {},
   "source": [
    "## Setup"
   ]
  },
  {
   "cell_type": "code",
   "execution_count": 16,
   "id": "24c2cfd4",
   "metadata": {},
   "outputs": [],
   "source": [
    "# First, import the libraries we will use\n",
    "import numpy as np\n",
    "import tesuract\n",
    "import matplotlib.pyplot as plt"
   ]
  },
  {
   "cell_type": "code",
   "execution_count": 17,
   "id": "414ad643",
   "metadata": {},
   "outputs": [],
   "source": [
    "# import a data set for our regression problem\n",
    "from sklearn.datasets import make_friedman1\n",
    "X,y = make_friedman1(n_samples=100,n_features=5)"
   ]
  },
  {
   "cell_type": "code",
   "execution_count": 18,
   "id": "882aaeef",
   "metadata": {},
   "outputs": [],
   "source": [
    "# rescale the input\n",
    "X = 2*X - 1\n",
    "# center and scale the output as well for good measure (not required)\n",
    "y = (y - y.mean())/np.sqrt(np.var(y))"
   ]
  },
  {
   "cell_type": "markdown",
   "id": "6237eb58",
   "metadata": {},
   "source": [
    "## Grid search tuning"
   ]
  },
  {
   "cell_type": "markdown",
   "id": "ede96fd5",
   "metadata": {},
   "source": [
    "There are essentially three parameters to tune in the polynomial regression class. The first, and the most obvious, is the polynomial order, which has the keyword ``order`` in the constructor. The next is the type of polynomial interaction terms called ``mindex_type``. \"total_orer\" os the default, but an alternative is \"hyperbolic\" which has even fewer interaction terms which emphasizes more higher-order terms. In practice, this rarely leads to a better polynomial, but we can try it anyway. Last, but not least, there is the polynomial ``fit_type``, which determines the solver used to solve the least squares problem (Note even though polynomials are non-linear, the fitting boils down to a linear problem). This can be a bunch of different algorithms, but the three most widely used are 'linear', 'LassoCV', and 'ElasticNetCV'. \n",
    "\n",
    "With these parameters in mind, we create a parameter grid just like one would when using the GridSearchCV method in sklearn. "
   ]
  },
  {
   "cell_type": "code",
   "execution_count": 19,
   "id": "947fbc3b",
   "metadata": {},
   "outputs": [],
   "source": [
    "pce_grid = {\n",
    "    'order': list(range(1,12)),\n",
    "    'mindex_type': ['total_order','hyperbolic'],\n",
    "    'fit_type': ['linear','ElasticNetCV','LassoCV'],\n",
    "    }"
   ]
  },
  {
   "cell_type": "markdown",
   "id": "2030bc53",
   "metadata": {},
   "source": [
    "Now we use the regression wrapper CV class which wraps the PCEReg class in sklearn's grid search CV functionality. "
   ]
  },
  {
   "cell_type": "code",
   "execution_count": 20,
   "id": "52590ae7",
   "metadata": {},
   "outputs": [
    {
     "name": "stdout",
     "output_type": "stream",
     "text": [
      "Fitting 5 folds for each of 66 candidates, totalling 330 fits\n",
      "Fitting 5 folds for each of 66 candidates, totalling 330 fits\n",
      "Hyper-parameter CV PCE score is 0.999\n"
     ]
    }
   ],
   "source": [
    "# hyper-parameter tune the PCE regression class using all available cores\n",
    "pce = tesuract.RegressionWrapperCV(\n",
    "    regressor='pce',\n",
    "    reg_params=pce_grid,\n",
    "    n_jobs=-1,\n",
    "    scorer='r2')\n",
    "pce.fit(X,y)\n",
    "print(\"Hyper-parameter CV PCE score is {0:.3f}\".format(pce.best_score_))"
   ]
  },
  {
   "cell_type": "markdown",
   "id": "e7c4b367",
   "metadata": {},
   "source": [
    "Why so many fits? For each k-fold (5 total) we have to compute 66 fits corresponding to 66 different parameter combinations. This repeats five times to get an average cross validation score. "
   ]
  },
  {
   "cell_type": "markdown",
   "id": "a09b90e1",
   "metadata": {},
   "source": [
    "Look at that! We got all the way to an R2 score of basically 1! How did we do that? One of our parameter combinations must have been really good. Which one was it? We can easily find out by called the best_params_ attribute. "
   ]
  },
  {
   "cell_type": "code",
   "execution_count": 21,
   "id": "729254db",
   "metadata": {},
   "outputs": [
    {
     "data": {
      "text/plain": [
       "{'fit_type': 'ElasticNetCV', 'mindex_type': 'total_order', 'order': 7}"
      ]
     },
     "execution_count": 21,
     "metadata": {},
     "output_type": "execute_result"
    }
   ],
   "source": [
    "pce.best_params_"
   ]
  },
  {
   "cell_type": "markdown",
   "id": "80741f5c",
   "metadata": {},
   "source": [
    "So it seems like 8th order way too high and probably overfit, so a fourth order was much better. Elastic net regularization also seemed to work the best, which uses a mix of l1 and l2 regularization. \n",
    "\n",
    "We can also extract the best scores, and the best estimator, i.e a PCEReg object with the fitted coefficients. "
   ]
  },
  {
   "cell_type": "code",
   "execution_count": 22,
   "id": "71a63cb1",
   "metadata": {},
   "outputs": [],
   "source": [
    "pce_best = pce.best_estimator_"
   ]
  },
  {
   "cell_type": "markdown",
   "id": "6bac3a89",
   "metadata": {},
   "source": [
    "Now, to be fair, we probably should hyper-parameter tune the MLP regressor to perform a completely fair comparison, and it may probably give us ultimately a better model. In general however, neural networks are much hard to hyper-parameter tune and take longer to train, so the polynomial model can be preferred when accuracy and simplicity is required. "
   ]
  }
 ],
 "metadata": {
  "kernelspec": {
   "display_name": "Python 3 (ipykernel)",
   "language": "python",
   "name": "python3"
  },
  "language_info": {
   "codemirror_mode": {
    "name": "ipython",
    "version": 3
   },
   "file_extension": ".py",
   "mimetype": "text/x-python",
   "name": "python",
   "nbconvert_exporter": "python",
   "pygments_lexer": "ipython3",
   "version": "3.8.10"
  }
 },
 "nbformat": 4,
 "nbformat_minor": 5
}
