{
 "cells": [
  {
   "cell_type": "markdown",
   "id": "469a7167",
   "metadata": {},
   "source": [
    "Let's perform a model comparison with some of the other sklearn estimators. Since the PCE regression class is of the same type, we can feed it directly "
   ]
  },
  {
   "cell_type": "markdown",
   "id": "eabec643",
   "metadata": {},
   "source": [
    "# Model comparison"
   ]
  },
  {
   "cell_type": "markdown",
   "id": "c9ce2873",
   "metadata": {},
   "source": [
    "### Setup"
   ]
  },
  {
   "cell_type": "code",
   "execution_count": 1,
   "id": "24c2cfd4",
   "metadata": {},
   "outputs": [],
   "source": [
    "# First, import the libraries we will use\n",
    "import tesuract\n",
    "import matplotlib.pyplot as plt"
   ]
  },
  {
   "cell_type": "code",
   "execution_count": 2,
   "id": "414ad643",
   "metadata": {},
   "outputs": [],
   "source": [
    "# import a data set for our regression problem\n",
    "from sklearn.datasets import make_friedman1\n",
    "X,y = make_friedman1(n_samples=100,n_features=5)"
   ]
  },
  {
   "cell_type": "code",
   "execution_count": 3,
   "id": "882aaeef",
   "metadata": {},
   "outputs": [],
   "source": [
    "# rescale the input\n",
    "X = 2*X - 1\n",
    "# center and scale the output as well for good measure (not required)\n",
    "y = (y - y.mean())/np.sqrt(np.var(y))"
   ]
  },
  {
   "cell_type": "markdown",
   "id": "c4c501ad",
   "metadata": {},
   "source": [
    "## Cross-validation score"
   ]
  },
  {
   "cell_type": "code",
   "execution_count": 6,
   "id": "80334a5d",
   "metadata": {},
   "outputs": [
    {
     "name": "stdout",
     "output_type": "stream",
     "text": [
      "PCE score is 0.836\n"
     ]
    }
   ],
   "source": [
    "# compute the cross validation score (5-fold by default)\n",
    "# of the pce we constructed earlier, i.e. 8th order linear fit\n",
    "from sklearn.model_selection import cross_val_score\n",
    "pce = tesuract.PCEReg(order=8)\n",
    "pce_score = cross_val_score(pce,X,y,scoring='r2').mean()\n",
    "print(\"PCE score is {0:.3f}\".format(pce_score))"
   ]
  },
  {
   "cell_type": "markdown",
   "id": "03237d92",
   "metadata": {},
   "source": [
    "Not bad for a first pass. How does it compare to something like random forests regression or MLPs? Now, we can compare apples to applies within the same environment since these models are all part of the sklearn base-estimator class. "
   ]
  },
  {
   "cell_type": "code",
   "execution_count": 7,
   "id": "c6c91c93",
   "metadata": {},
   "outputs": [
    {
     "name": "stdout",
     "output_type": "stream",
     "text": [
      "RF score is 0.685\n"
     ]
    }
   ],
   "source": [
    "# Let's try a simple random forest estimator\n",
    "from sklearn.ensemble import RandomForestRegressor\n",
    "rfregr = RandomForestRegressor(max_depth=5,n_estimators=100)\n",
    "rf_score = cross_val_score(rfregr,X,y,scoring='r2').mean()\n",
    "print(\"RF score is {0:.3f}\".format(rf_score))"
   ]
  },
  {
   "cell_type": "code",
   "execution_count": 8,
   "id": "087aae85",
   "metadata": {},
   "outputs": [
    {
     "name": "stdout",
     "output_type": "stream",
     "text": [
      "MLP score is 0.939\n"
     ]
    }
   ],
   "source": [
    "# Let's try a simple 4-layer neural network (fully connected)\n",
    "from sklearn.neural_network import MLPRegressor\n",
    "mlpregr = MLPRegressor(hidden_layer_sizes=(100,100,100,100))\n",
    "mlp_score = cross_val_score(mlpregr,X,y,scoring='r2').mean()\n",
    "print(\"MLP score is {0:.3f}\".format(mlp_score))"
   ]
  },
  {
   "cell_type": "markdown",
   "id": "875434fa",
   "metadata": {},
   "source": [
    "Wow! So the MLP way out-performed the 8th order polynomial with a linear fit! But wait. What if we tried a different polynomial order? Or a different fitting procedure like a sparse l-1 solver? Can we leverage the hyper-parameter tuning that sklearn has? Yes! Moreso, we created an easy wrapper for the grid search cv functionality and a new pce regression wrapper that has cross-validation and hyper-parameter tuning built in! "
   ]
  }
 ],
 "metadata": {
  "kernelspec": {
   "display_name": "Python 3 (ipykernel)",
   "language": "python",
   "name": "python3"
  },
  "language_info": {
   "codemirror_mode": {
    "name": "ipython",
    "version": 3
   },
   "file_extension": ".py",
   "mimetype": "text/x-python",
   "name": "python",
   "nbconvert_exporter": "python",
   "pygments_lexer": "ipython3",
   "version": "3.8.10"
  }
 },
 "nbformat": 4,
 "nbformat_minor": 5
}
