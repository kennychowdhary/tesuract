{
 "cells": [
  {
   "cell_type": "markdown",
   "id": "immune-thousand",
   "metadata": {},
   "source": [
    "# Introduction to polynomial regression\n",
    "\n",
    "Let's start my first importing the pypce library and any third party libraries we might need like numpy or matplotlib. "
   ]
  },
  {
   "cell_type": "markdown",
   "id": "particular-delivery",
   "metadata": {},
   "source": [
    "## Setup the problem"
   ]
  },
  {
   "cell_type": "code",
   "execution_count": 3,
   "id": "floppy-battlefield",
   "metadata": {
    "scrolled": true
   },
   "outputs": [],
   "source": [
    "import tesuract\n",
    "import numpy as np\n",
    "import matplotlib.pyplot as mpl"
   ]
  },
  {
   "cell_type": "markdown",
   "id": "tamil-medicine",
   "metadata": {},
   "source": [
    "Now, let's generate some two-dimensional multivariate data to show how pypce works!"
   ]
  },
  {
   "cell_type": "code",
   "execution_count": 4,
   "id": "green-religious",
   "metadata": {
    "scrolled": true
   },
   "outputs": [
    {
     "name": "stdout",
     "output_type": "stream",
     "text": [
      "(100, 2) (100,)\n"
     ]
    }
   ],
   "source": [
    "rn = np.random.RandomState(123)\n",
    "X = 2*rn.rand(100,2)-1\n",
    "y = X[:,0] + .5*(3*X[:,1]**2-1) \n",
    "print(X.shape,y.shape)"
   ]
  },
  {
   "cell_type": "markdown",
   "id": "marked-citation",
   "metadata": {},
   "source": [
    "This generate a data matrix $X$ of size (nsamples,dim) and labeled data $y$ of shape (nsamples,). We can plot the univariate data using matplotlib. "
   ]
  },
  {
   "cell_type": "code",
   "execution_count": 5,
   "id": "fleet-shakespeare",
   "metadata": {
    "scrolled": true
   },
   "outputs": [
    {
     "data": {
      "text/plain": [
       "[<matplotlib.lines.Line2D at 0x1687a1510>]"
      ]
     },
     "execution_count": 5,
     "metadata": {},
     "output_type": "execute_result"
    },
    {
     "data": {
      "image/png": "[encoded data removed]",
      "text/plain": [
       "<Figure size 432x288 with 1 Axes>"
      ]
     },
     "metadata": {
      "needs_background": "light"
     },
     "output_type": "display_data"
    }
   ],
   "source": [
    "mpl.plot(X[:,0],y,'.')"
   ]
  },
  {
   "cell_type": "code",
   "execution_count": 6,
   "id": "religious-michael",
   "metadata": {
    "scrolled": true
   },
   "outputs": [
    {
     "data": {
      "text/plain": [
       "[<matplotlib.lines.Line2D at 0x1688d2c90>]"
      ]
     },
     "execution_count": 6,
     "metadata": {},
     "output_type": "execute_result"
    },
    {
     "data": {
      "image/png": "[encoded data removed]",
      "text/plain": [
       "<Figure size 432x288 with 1 Axes>"
      ]
     },
     "metadata": {
      "needs_background": "light"
     },
     "output_type": "display_data"
    }
   ],
   "source": [
    "mpl.plot(X[:,1],y,'.')"
   ]
  },
  {
   "cell_type": "markdown",
   "id": "adjusted-baseball",
   "metadata": {},
   "source": [
    "Note that the $x_1$ dependence on $y$ is more linear, whereas the $x_2$ dependence is quadratic, which is done by construction. Let's keep this in mind so that we can make sure the polynomial fit we obtain reflects this relation. "
   ]
  },
  {
   "cell_type": "markdown",
   "id": "systematic-collection",
   "metadata": {},
   "source": [
    "## Fit a polynomial\n",
    "\n",
    "Now let's fit the polynomial. To do this we need to initialize the PCE regression class. To do this, we need to define the order of the polynomial we want to fit and the fit algorithm. These two common parameters are referred to as hyper-parameters. We can optimize over them later using the grid search methods in sklearn. For now, let us choose a second order polynomial and a least squares fit algorithm. "
   ]
  },
  {
   "cell_type": "code",
   "execution_count": 7,
   "id": "australian-morocco",
   "metadata": {
    "scrolled": true
   },
   "outputs": [],
   "source": [
    "pce = tesuract.PCEReg(order=2,fit_type='linear')"
   ]
  },
  {
   "cell_type": "markdown",
   "id": "fallen-opportunity",
   "metadata": {},
   "source": [
    "Initialization is fast since no computation or basis construction has been done. It is when we fit the polynomial that the basis construction takes place. So let's fit the polynomial!"
   ]
  },
  {
   "cell_type": "code",
   "execution_count": 8,
   "id": "express-blank",
   "metadata": {
    "scrolled": true
   },
   "outputs": [
    {
     "data": {
      "text/plain": [
       "PCEReg(coef=array([ 4.28125939e-17,  1.00000000e+00, -6.66133815e-16,  0.00000000e+00,\n",
       "        3.33066907e-16,  1.00000000e+00]))"
      ]
     },
     "execution_count": 8,
     "metadata": {},
     "output_type": "execute_result"
    }
   ],
   "source": [
    "pce.fit(X,y)"
   ]
  },
  {
   "cell_type": "markdown",
   "id": "bigger-plaza",
   "metadata": {},
   "source": [
    "This returns the object back and displays the coefficient vector. For all intents and purposes, a user does not need to know what the coefficients are, but for purposes of this tutorial, let us take a look so that we can verify that the fit is correct. "
   ]
  },
  {
   "cell_type": "code",
   "execution_count": 9,
   "id": "spatial-window",
   "metadata": {
    "scrolled": true
   },
   "outputs": [
    {
     "name": "stdout",
     "output_type": "stream",
     "text": [
      "c=\n",
      " [ 4.28125939e-17  1.00000000e+00 -6.66133815e-16  0.00000000e+00\n",
      "  3.33066907e-16  1.00000000e+00]\n",
      "multi-index:\n",
      " [[0 0]\n",
      " [1 0]\n",
      " [0 1]\n",
      " [2 0]\n",
      " [1 1]\n",
      " [0 2]]\n"
     ]
    }
   ],
   "source": [
    "print(\"c=\\n\",pce.coef)\n",
    "print(\"multi-index:\\n\",pce.mindex)"
   ]
  },
  {
   "cell_type": "markdown",
   "id": "opponent-health",
   "metadata": {},
   "source": [
    "Notice that coefficient array contains all zeros (essentially) except for the second and last entries. This is actually by design! We defined the function $y$ to be a simple sum of the first order Legendre polynomial in $x_1$ and the second order Legendre polynomial in $x_2$. And if we look at the multi-index array, which represents the components of each basis function, the second and last row correspond to these exact polynomial terms. To be explicit, the multi-index row $[p,q]$ represents the basis corresponding to the product of the $p^{th}$ order polynomial in $x_1$ and the $q^{th}$ order polynomial in $x_2$. \n",
    "\n",
    "Two final points before we move on. The linear fit algorithm worked perfectly well since our data was not corrupted by noise. When noise becomes a problem, or we expect outliers, it is probably better to use the LassoCV or ElasticNetCV algorithms. The good news is that we have wrappers that allow the user to perform a simple hyper-parameter search to figure out the best fit. To show that a fit with regression would not work well for this case, look at the following. "
   ]
  },
  {
   "cell_type": "code",
   "execution_count": 10,
   "id": "amino-series",
   "metadata": {
    "scrolled": true
   },
   "outputs": [
    {
     "data": {
      "text/plain": [
       "PCEReg(coef=array([-4.23429475e-04,  1.00037195e+00,  2.12998050e-04, -3.61174005e-04,\n",
       "       -5.52452618e-04,  9.99757827e-01]),\n",
       "       fit_params={'alphas': array([1.00000000e-12, 3.83118685e-12, 1.46779927e-11, 5.62341325e-11,\n",
       "       2.15443469e-10, 8.25404185e-10, 3.16227766e-09, 1.21152766e-08,\n",
       "       4.64158883e-08, 1.77827941e-07, 6.81292069e-07, 2.61015722e-06,\n",
       "       1.00000000e-05, 3.83118685e-05, 1.46779927e-04, 5.62341325e-04,\n",
       "       2.15443469e-03, 8.25404185e-03, 3.16227766e-02, 1.21152766e-01,\n",
       "       4.64158883e-01, 1.77827941e+00, 6.81292069e+00, 2.61015722e+01,\n",
       "       1.00000000e+02]),\n",
       "                   'max_iter': 2500, 'tol': 0.01},\n",
       "       fit_type='LassoCV')"
      ]
     },
     "execution_count": 10,
     "metadata": {},
     "output_type": "execute_result"
    }
   ],
   "source": [
    "pce_lasso = tesuract.PCEReg(order=2,fit_type='LassoCV')\n",
    "pce_lasso.fit(X,y)"
   ]
  },
  {
   "cell_type": "markdown",
   "id": "heated-mailing",
   "metadata": {},
   "source": [
    "The coefficient array in this case is over regularized but it's not bad. This is because the LassoCV is allowed to find the best regularization parameter, which in this case it $0$. "
   ]
  },
  {
   "cell_type": "markdown",
   "id": "chemical-kingdom",
   "metadata": {},
   "source": [
    "## Feature importance\n",
    "\n",
    "Let's us now see how we can show the feature importances. For polynomials, we use the total order Sobol sensitivity indices. This is essentially a weighted average of the polynomial coefficients. This is one of the nice properties of using orthogonal polynomials. "
   ]
  },
  {
   "cell_type": "code",
   "execution_count": 11,
   "id": "interesting-anderson",
   "metadata": {
    "scrolled": true
   },
   "outputs": [
    {
     "data": {
      "text/plain": [
       "array([0.625, 0.375])"
      ]
     },
     "execution_count": 11,
     "metadata": {},
     "output_type": "execute_result"
    }
   ],
   "source": [
    "pce.feature_importances_"
   ]
  },
  {
   "cell_type": "markdown",
   "id": "lined-supply",
   "metadata": {},
   "source": [
    "Sobol sensitivity indices essentially give us a metric for how much of the total variance is explained by each individual variance. So what this says is that $x_1$ is more importance to the variability of the output. This doesn't mean that $x_2$ doesn't matter. Note the syntax is similar to the random forest feature importance syntax in sklearn. "
   ]
  },
  {
   "cell_type": "markdown",
   "id": "floating-craft",
   "metadata": {},
   "source": [
    "## Prediction\n",
    "\n",
    "Once the coefficient array is determined, typically by the fit function or (less commonly) by pre-defining the coefficient array in the constructor, we can make predictions. This is quite simple by using the ``predict`` class method. "
   ]
  },
  {
   "cell_type": "code",
   "execution_count": 12,
   "id": "egyptian-horse",
   "metadata": {
    "scrolled": true
   },
   "outputs": [
    {
     "name": "stdout",
     "output_type": "stream",
     "text": [
      "MSE: 3.587487E-31, \n",
      "MPE: 1.069409E-26\n"
     ]
    }
   ],
   "source": [
    "ypred = pce.predict(X)\n",
    "print('MSE: {0:2E}, \\nMPE: {1:3E}'.format(np.mean((ypred-y)**2), np.mean(100*(ypred-y)**2/y**2)))"
   ]
  },
  {
   "cell_type": "markdown",
   "id": "sized-hamilton",
   "metadata": {},
   "source": [
    "We can see this in another way by plotting the prediction vs the truth. Ideally, the graph should align perfectly with a y=x line plot."
   ]
  },
  {
   "cell_type": "code",
   "execution_count": 13,
   "id": "surface-kentucky",
   "metadata": {
    "scrolled": true
   },
   "outputs": [
    {
     "data": {
      "text/plain": [
       "[<matplotlib.lines.Line2D at 0x16a995190>]"
      ]
     },
     "execution_count": 13,
     "metadata": {},
     "output_type": "execute_result"
    },
    {
     "data": {
      "image/png": "[encoded data removed]",
      "text/plain": [
       "<Figure size 432x288 with 1 Axes>"
      ]
     },
     "metadata": {
      "needs_background": "light"
     },
     "output_type": "display_data"
    }
   ],
   "source": [
    "mpl.plot(y,y,'k',alpha=1,ms=2)\n",
    "mpl.plot(y,ypred,'o')"
   ]
  },
  {
   "cell_type": "markdown",
   "id": "listed-nowhere",
   "metadata": {},
   "source": [
    "### Scale error\n",
    "\n",
    "We mentioned before that $X$ must be scaled to be over [-1,1] since the polynomials are defined on that range. Let's see what happens when we feed a polynomial outside that range. "
   ]
  },
  {
   "cell_type": "code",
   "execution_count": 14,
   "id": "under-arthritis",
   "metadata": {
    "scrolled": true
   },
   "outputs": [
    {
     "ename": "AssertionError",
     "evalue": "range for X must be between -1 and 1 for now. scale inputs accordingly. ",
     "output_type": "error",
     "traceback": [
      "\u001b[0;31m---------------------------------------------------------------------------\u001b[0m",
      "\u001b[0;31mAssertionError\u001b[0m                            Traceback (most recent call last)",
      "\u001b[0;32m<ipython-input-14-d32815d055ad>\u001b[0m in \u001b[0;36m<module>\u001b[0;34m\u001b[0m\n\u001b[0;32m----> 1\u001b[0;31m \u001b[0mpce\u001b[0m\u001b[0;34m.\u001b[0m\u001b[0mfit\u001b[0m\u001b[0;34m(\u001b[0m\u001b[0;36m2\u001b[0m\u001b[0;34m*\u001b[0m\u001b[0mX\u001b[0m\u001b[0;34m,\u001b[0m\u001b[0my\u001b[0m\u001b[0;34m)\u001b[0m\u001b[0;34m\u001b[0m\u001b[0;34m\u001b[0m\u001b[0m\n\u001b[0m",
      "\u001b[0;32m~/.pyenv/versions/3.7.6/lib/python3.7/site-packages/tesuract/pce.py\u001b[0m in \u001b[0;36mfit\u001b[0;34m(self, X, y)\u001b[0m\n\u001b[1;32m    881\u001b[0m                 \u001b[0mself\u001b[0m\u001b[0;34m.\u001b[0m\u001b[0mcoef\u001b[0m \u001b[0;34m=\u001b[0m \u001b[0;32mNone\u001b[0m \u001b[0;31m# set to none and fit again\u001b[0m\u001b[0;34m\u001b[0m\u001b[0;34m\u001b[0m\u001b[0m\n\u001b[1;32m    882\u001b[0m \u001b[0;34m\u001b[0m\u001b[0m\n\u001b[0;32m--> 883\u001b[0;31m         \u001b[0mself\u001b[0m\u001b[0;34m.\u001b[0m\u001b[0m_compile\u001b[0m\u001b[0;34m(\u001b[0m\u001b[0mX\u001b[0m\u001b[0;34m)\u001b[0m \u001b[0;31m# build multindex and construct basis\u001b[0m\u001b[0;34m\u001b[0m\u001b[0;34m\u001b[0m\u001b[0m\n\u001b[0m\u001b[1;32m    884\u001b[0m         \u001b[0mXhat\u001b[0m\u001b[0;34m,\u001b[0m\u001b[0my\u001b[0m \u001b[0;34m=\u001b[0m \u001b[0mcheck_X_y\u001b[0m\u001b[0;34m(\u001b[0m\u001b[0mself\u001b[0m\u001b[0;34m.\u001b[0m\u001b[0mXhat\u001b[0m\u001b[0;34m,\u001b[0m\u001b[0my\u001b[0m\u001b[0;34m)\u001b[0m\u001b[0;34m\u001b[0m\u001b[0;34m\u001b[0m\u001b[0m\n\u001b[1;32m    885\u001b[0m             \u001b[0;31m# assert len(self.coef) == self.multiindex.shape[0],\"length of coefficient vector is not the same shape as the multindex!\"\u001b[0m\u001b[0;34m\u001b[0m\u001b[0;34m\u001b[0m\u001b[0;34m\u001b[0m\u001b[0m\n",
      "\u001b[0;32m~/.pyenv/versions/3.7.6/lib/python3.7/site-packages/tesuract/pce.py\u001b[0m in \u001b[0;36m_compile\u001b[0;34m(self, X)\u001b[0m\n\u001b[1;32m    815\u001b[0m         \u001b[0msuper\u001b[0m\u001b[0;34m(\u001b[0m\u001b[0;34m)\u001b[0m\u001b[0;34m.\u001b[0m\u001b[0mcompile\u001b[0m\u001b[0;34m(\u001b[0m\u001b[0mdim\u001b[0m\u001b[0;34m=\u001b[0m\u001b[0mself\u001b[0m\u001b[0;34m.\u001b[0m\u001b[0m_dim\u001b[0m\u001b[0;34m)\u001b[0m \u001b[0;31m# use parent compile to produce the multiindex\u001b[0m\u001b[0;34m\u001b[0m\u001b[0;34m\u001b[0m\u001b[0m\n\u001b[1;32m    816\u001b[0m         \u001b[0mself\u001b[0m\u001b[0;34m.\u001b[0m\u001b[0m_M\u001b[0m \u001b[0;34m=\u001b[0m \u001b[0mself\u001b[0m\u001b[0;34m.\u001b[0m\u001b[0mmultiindex\u001b[0m\u001b[0;34m\u001b[0m\u001b[0;34m\u001b[0m\u001b[0m\n\u001b[0;32m--> 817\u001b[0;31m         \u001b[0mself\u001b[0m\u001b[0;34m.\u001b[0m\u001b[0mXhat\u001b[0m \u001b[0;34m=\u001b[0m \u001b[0mself\u001b[0m\u001b[0;34m.\u001b[0m\u001b[0mfit_transform\u001b[0m\u001b[0;34m(\u001b[0m\u001b[0mX\u001b[0m\u001b[0;34m)\u001b[0m\u001b[0;34m\u001b[0m\u001b[0;34m\u001b[0m\u001b[0m\n\u001b[0m\u001b[1;32m    818\u001b[0m         \u001b[0;32mreturn\u001b[0m \u001b[0mself\u001b[0m\u001b[0;34m\u001b[0m\u001b[0;34m\u001b[0m\u001b[0m\n\u001b[1;32m    819\u001b[0m     \u001b[0;32mdef\u001b[0m \u001b[0m_quad_fit\u001b[0m\u001b[0;34m(\u001b[0m\u001b[0mself\u001b[0m\u001b[0;34m,\u001b[0m\u001b[0mX\u001b[0m\u001b[0;34m,\u001b[0m\u001b[0my\u001b[0m\u001b[0;34m)\u001b[0m\u001b[0;34m:\u001b[0m\u001b[0;34m\u001b[0m\u001b[0;34m\u001b[0m\u001b[0m\n",
      "\u001b[0;32m~/.pyenv/versions/3.7.6/lib/python3.7/site-packages/tesuract/pce.py\u001b[0m in \u001b[0;36mfit_transform\u001b[0;34m(self, X)\u001b[0m\n\u001b[1;32m    388\u001b[0m         \u001b[0;31m# only works for [-1,1] for far\u001b[0m\u001b[0;34m\u001b[0m\u001b[0;34m\u001b[0m\u001b[0;34m\u001b[0m\u001b[0m\n\u001b[1;32m    389\u001b[0m         \u001b[0;31m# compute multindex\u001b[0m\u001b[0;34m\u001b[0m\u001b[0;34m\u001b[0m\u001b[0;34m\u001b[0m\u001b[0m\n\u001b[0;32m--> 390\u001b[0;31m         \u001b[0;32massert\u001b[0m \u001b[0mnp\u001b[0m\u001b[0;34m.\u001b[0m\u001b[0mamin\u001b[0m\u001b[0;34m(\u001b[0m\u001b[0mX\u001b[0m\u001b[0;34m)\u001b[0m \u001b[0;34m>=\u001b[0m \u001b[0;34m-\u001b[0m\u001b[0;36m1\u001b[0m \u001b[0;32mand\u001b[0m \u001b[0mnp\u001b[0m\u001b[0;34m.\u001b[0m\u001b[0mamax\u001b[0m\u001b[0;34m(\u001b[0m\u001b[0mX\u001b[0m\u001b[0;34m)\u001b[0m \u001b[0;34m<=\u001b[0m \u001b[0;36m1\u001b[0m\u001b[0;34m,\u001b[0m \u001b[0;34m\"range for X must be between -1 and 1 for now. scale inputs accordingly. \"\u001b[0m\u001b[0;34m\u001b[0m\u001b[0;34m\u001b[0m\u001b[0m\n\u001b[0m\u001b[1;32m    391\u001b[0m         \u001b[0mX\u001b[0m \u001b[0;34m=\u001b[0m \u001b[0mnp\u001b[0m\u001b[0;34m.\u001b[0m\u001b[0matleast_2d\u001b[0m\u001b[0;34m(\u001b[0m\u001b[0mX\u001b[0m\u001b[0;34m)\u001b[0m\u001b[0;34m\u001b[0m\u001b[0;34m\u001b[0m\u001b[0m\n\u001b[1;32m    392\u001b[0m         \u001b[0;32mif\u001b[0m \u001b[0mself\u001b[0m\u001b[0;34m.\u001b[0m\u001b[0mmindex\u001b[0m \u001b[0;32mis\u001b[0m \u001b[0;32mNone\u001b[0m\u001b[0;34m:\u001b[0m\u001b[0;34m\u001b[0m\u001b[0;34m\u001b[0m\u001b[0m\n",
      "\u001b[0;31mAssertionError\u001b[0m: range for X must be between -1 and 1 for now. scale inputs accordingly. "
     ]
    }
   ],
   "source": [
    "pce.fit(2*X,y)"
   ]
  },
  {
   "cell_type": "markdown",
   "id": "athletic-purple",
   "metadata": {},
   "source": [
    "Note that we will NOT get an error if X is defined on $[0,1]$. "
   ]
  },
  {
   "cell_type": "code",
   "execution_count": null,
   "id": "passive-saturday",
   "metadata": {
    "scrolled": true
   },
   "outputs": [],
   "source": [
    "pce.fit(.5*(X+1),y)"
   ]
  },
  {
   "cell_type": "markdown",
   "id": "reduced-holder",
   "metadata": {},
   "source": [
    "In this case, the fit will not be what one expects since we expect the input to be on [-1,1]. So be careful!!"
   ]
  },
  {
   "cell_type": "markdown",
   "id": "extraordinary-reaction",
   "metadata": {},
   "source": [
    "## Different fit algorithms\n",
    "\n",
    "Now let's look at the accuracy of different fit algorithms. In this example, we will train and test on the same set, but in a formal setting, you should not do that (we will explore this in later tutorials).  \n",
    "\n",
    "The different fit algorithms from sklearn are LassoCV, ElasticNetCV, OmpCV, and linear least squares. We will fit a polynomial for each one of these algorithms with and without noise to see how accurate they are. \n"
   ]
  },
  {
   "cell_type": "code",
   "execution_count": null,
   "id": "cellular-environment",
   "metadata": {},
   "outputs": [],
   "source": [
    "algs = ['linear', 'LassoCV', 'ElasticNetCV']\n",
    "for alg in algs:\n",
    "    pce = pypce.PCEReg(order=2,fit_type=alg)\n",
    "    pce.fit(X,y)\n",
    "    ypred = pce.predict(X)\n",
    "    print(\"Error using {0}: {1:.3E}\".format(alg,np.sum((ypred-y)**2)))"
   ]
  },
  {
   "cell_type": "markdown",
   "id": "consolidated-stockholm",
   "metadata": {},
   "source": [
    "They are all pretty good, but linear least squares gives the best fit. Now, let's try the same with noise! First, let us create an output corrupted by simple additive white noise"
   ]
  },
  {
   "cell_type": "code",
   "execution_count": null,
   "id": "eastern-amount",
   "metadata": {},
   "outputs": [],
   "source": [
    "y_w_noise = y.copy() + .1*rn.randn(len(y))"
   ]
  },
  {
   "cell_type": "code",
   "execution_count": null,
   "id": "vanilla-parliament",
   "metadata": {},
   "outputs": [],
   "source": [
    "algs = ['linear', 'LassoCV', 'ElasticNetCV']\n",
    "for alg in algs:\n",
    "    pce = pypce.PCEReg(order=2,fit_type=alg)\n",
    "    pce.fit(X,y_w_noise)\n",
    "    ypred = pce.predict(X)\n",
    "    print(\"Error using {0}: {1:.3E}\".format(alg,np.sum((ypred-y)**2)))"
   ]
  },
  {
   "cell_type": "markdown",
   "id": "applicable-destruction",
   "metadata": {},
   "source": [
    "This time, LassoCV or ElasticNetCV give the best solution!"
   ]
  }
 ],
 "metadata": {
  "kernelspec": {
   "display_name": "Python 3",
   "language": "python",
   "name": "python3"
  },
  "language_info": {
   "codemirror_mode": {
    "name": "ipython",
    "version": 3
   },
   "file_extension": ".py",
   "mimetype": "text/x-python",
   "name": "python",
   "nbconvert_exporter": "python",
   "pygments_lexer": "ipython3",
   "version": "3.7.6"
  }
 },
 "nbformat": 4,
 "nbformat_minor": 5
}
