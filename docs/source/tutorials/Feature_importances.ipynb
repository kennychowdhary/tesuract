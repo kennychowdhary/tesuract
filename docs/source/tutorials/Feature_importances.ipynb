{
 "cells": [
  {
   "cell_type": "markdown",
   "id": "469a7167",
   "metadata": {},
   "source": [
    "Here are some of the most common uses for tesuract. This is not comprehensive, but merely highlights the strengths and flexibility of tesuract. "
   ]
  },
  {
   "cell_type": "markdown",
   "id": "14d7c3d9",
   "metadata": {},
   "source": [
    "# Feature Importances"
   ]
  },
  {
   "cell_type": "markdown",
   "id": "5a4e6e99",
   "metadata": {},
   "source": [
    "## Setup"
   ]
  },
  {
   "cell_type": "code",
   "execution_count": 9,
   "id": "24c2cfd4",
   "metadata": {},
   "outputs": [],
   "source": [
    "# First, import the libraries we will use\n",
    "import numpy as np\n",
    "import tesuract\n",
    "import matplotlib.pyplot as plt"
   ]
  },
  {
   "cell_type": "code",
   "execution_count": 10,
   "id": "414ad643",
   "metadata": {},
   "outputs": [],
   "source": [
    "# import a data set for our regression problem\n",
    "from sklearn.datasets import make_friedman1\n",
    "X,y = make_friedman1(n_samples=100,n_features=5)"
   ]
  },
  {
   "cell_type": "code",
   "execution_count": 11,
   "id": "882aaeef",
   "metadata": {},
   "outputs": [],
   "source": [
    "# rescale the input\n",
    "X = 2*X - 1\n",
    "# center and scale the output as well for good measure (not required)\n",
    "y = (y - y.mean())/np.sqrt(np.var(y))"
   ]
  },
  {
   "cell_type": "markdown",
   "id": "01385175",
   "metadata": {},
   "source": [
    "## Total order Sobol sensitivities\n",
    "\n",
    "One last thing, before we move onto more advanced usage cases, in particular, tensor surrogates. With orthogonal polynomials like in PCEs, we can (almost) automatically obtain feature importances in the form of Sobol sensitivity indices. In particular, we can call feature importances to obtain normalized (summed to one) Sobol total order indices. Let's run the model at the best parameters and extract the Sobol indices/ feature importances. "
   ]
  },
  {
   "cell_type": "markdown",
   "id": "2030bc53",
   "metadata": {},
   "source": [
    "Now we use the regression wrapper CV class which wraps the PCEReg class in sklearn's grid search CV functionality. "
   ]
  },
  {
   "cell_type": "code",
   "execution_count": 12,
   "id": "dd2dd8ca",
   "metadata": {},
   "outputs": [],
   "source": [
    "pce_best = tesuract.PCEReg(order=4,fit_type='ElasticNetCV')\n",
    "pce_best.fit(X,y);"
   ]
  },
  {
   "cell_type": "code",
   "execution_count": 13,
   "id": "587f855a",
   "metadata": {},
   "outputs": [
    {
     "data": {
      "text/plain": [
       "array([0.25483936, 0.25010487, 0.09265639, 0.32062786, 0.08177152])"
      ]
     },
     "execution_count": 13,
     "metadata": {},
     "output_type": "execute_result"
    }
   ],
   "source": [
    "# compute the normalized (sum to 1) Sobol total order indices\n",
    "pce_best.feature_importances_"
   ]
  },
  {
   "cell_type": "markdown",
   "id": "5cf53116",
   "metadata": {},
   "source": [
    "Now technically, the Sobol total order indices shouldn't be normalized, but we do it for consistency and with only some loss of generality. For the original total order indices use ``computeSobol()`` method. "
   ]
  },
  {
   "cell_type": "code",
   "execution_count": 14,
   "id": "944c0058",
   "metadata": {},
   "outputs": [
    {
     "data": {
      "text/plain": [
       "[0.275399294692865,\n",
       " 0.27028283968131295,\n",
       " 0.10013172012221548,\n",
       " 0.3464954852447724,\n",
       " 0.08836868613421243]"
      ]
     },
     "execution_count": 14,
     "metadata": {},
     "output_type": "execute_result"
    }
   ],
   "source": [
    "pce_best.computeSobol()"
   ]
  },
  {
   "cell_type": "markdown",
   "id": "b2d706d6",
   "metadata": {},
   "source": [
    "The larger the value, the more \"important\" the parameter is. So, the first, second and fourth parameters are more importance features in the model than the remaining two. "
   ]
  }
 ],
 "metadata": {
  "kernelspec": {
   "display_name": "Python 3 (ipykernel)",
   "language": "python",
   "name": "python3"
  },
  "language_info": {
   "codemirror_mode": {
    "name": "ipython",
    "version": 3
   },
   "file_extension": ".py",
   "mimetype": "text/x-python",
   "name": "python",
   "nbconvert_exporter": "python",
   "pygments_lexer": "ipython3",
   "version": "3.8.10"
  }
 },
 "nbformat": 4,
 "nbformat_minor": 5
}
