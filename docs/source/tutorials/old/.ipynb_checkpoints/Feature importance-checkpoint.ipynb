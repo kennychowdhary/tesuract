{
 "cells": [
  {
   "cell_type": "markdown",
   "id": "01385175",
   "metadata": {},
   "source": [
    "## Feature importances\n",
    "\n",
    "One last thing, before we move onto more advanced usage cases, in particular, tensor surrogates. With orthogonal polynomials like in PCEs, we can (almost) automatically obtain feature importances in the form of Sobol sensitivity indices. In particular, we can call feature importances to obtain normalized (summed to one) Sobol total order indices"
   ]
  },
  {
   "cell_type": "code",
   "execution_count": 21,
   "id": "587f855a",
   "metadata": {},
   "outputs": [
    {
     "data": {
      "text/plain": [
       "array([0.25341252, 0.2553728 , 0.08742023, 0.31989295, 0.08390151])"
      ]
     },
     "execution_count": 21,
     "metadata": {},
     "output_type": "execute_result"
    }
   ],
   "source": [
    "# obtain the best estimator after hyper-parameter tuning\n",
    "pce_best = pce.best_estimator_\n",
    "# compute the normalized (sum to 1) Sobol total order indices\n",
    "pce_best.feature_importances_"
   ]
  },
  {
   "cell_type": "markdown",
   "id": "5cf53116",
   "metadata": {},
   "source": [
    "Now technically, the Sobol total order indices shouldn't be normalized, but we do it for consistency and with only some loss of generality. For the original total order indices use ``computeSobol()`` method. "
   ]
  },
  {
   "cell_type": "code",
   "execution_count": 19,
   "id": "944c0058",
   "metadata": {},
   "outputs": [
    {
     "data": {
      "text/plain": [
       "[0.27158784222563226,\n",
       " 0.27368872135122857,\n",
       " 0.09369020534664568,\n",
       " 0.34283640074485666,\n",
       " 0.0899191144641273]"
      ]
     },
     "execution_count": 19,
     "metadata": {},
     "output_type": "execute_result"
    }
   ],
   "source": [
    "pce_best.computeSobol()"
   ]
  },
  {
   "cell_type": "markdown",
   "id": "b2d706d6",
   "metadata": {},
   "source": [
    "The larger the value, the more \"important\" the parameter is. So, the first, second and fourth parameters are more importance features in the model than the remaining two. "
   ]
  }
 ],
 "metadata": {
  "kernelspec": {
   "display_name": "Python 3",
   "language": "python",
   "name": "python3"
  },
  "language_info": {
   "codemirror_mode": {
    "name": "ipython",
    "version": 3
   },
   "file_extension": ".py",
   "mimetype": "text/x-python",
   "name": "python",
   "nbconvert_exporter": "python",
   "pygments_lexer": "ipython3",
   "version": "3.7.6"
  }
 },
 "nbformat": 4,
 "nbformat_minor": 5
}
